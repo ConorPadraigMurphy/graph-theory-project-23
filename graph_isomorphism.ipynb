{
 "cells": [
  {
   "attachments": {},
   "cell_type": "markdown",
   "metadata": {},
   "source": [
    "# Graph Theory project 2023\n",
    "  Conor Murphy G00399177\n",
    "  ***"
   ]
  },
  {
   "attachments": {},
   "cell_type": "markdown",
   "metadata": {},
   "source": [
    "\n",
    "## Graph Isomorphism Problem\n",
    "\n",
    "    The graph isomorphism problem is the computational problem of determining whether two finite graphs are isomorphic. The problem is not known to be solvable in polynomial time nor to be NP-complete, and therefore may be in the computational complexity class NP-intermediate."
   ]
  }
 ],
 "metadata": {
  "kernelspec": {
   "display_name": "base",
   "language": "python",
   "name": "python3"
  },
  "language_info": {
   "name": "python",
   "version": "3.9.13 (main, Aug 25 2022, 23:51:50) [MSC v.1916 64 bit (AMD64)]"
  },
  "orig_nbformat": 4,
  "vscode": {
   "interpreter": {
    "hash": "cb7c8a385a6484a0997738f014573ec0f46146ba0649af5ef0e4308d4d0d5c15"
   }
  }
 },
 "nbformat": 4,
 "nbformat_minor": 2
}
